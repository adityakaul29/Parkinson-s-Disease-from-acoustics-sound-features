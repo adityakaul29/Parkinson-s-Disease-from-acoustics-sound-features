{
 "cells": [
  {
   "cell_type": "code",
   "execution_count": 217,
   "id": "df17a62d",
   "metadata": {},
   "outputs": [],
   "source": [
    "import numpy as np\n",
    "from scipy import stats\n",
    "import pandas as pd\n",
    "import math \n",
    "import matplotlib as mpl\n",
    "import matplotlib.pyplot as plt\n",
    "import seaborn as sns\n",
    "import statsmodels.api as sm\n",
    "from statsmodels.stats.outliers_influence import variance_inflation_factor\n",
    "from scipy.stats import f\n",
    "from scipy.stats import ttest_ind\n",
    "from scipy.stats import chi2_contingency\n",
    "from sklearn.utils import resample\n",
    "import statsmodels.stats.multitest as smt\n",
    "from sklearn.model_selection import train_test_split\n",
    "from sklearn.svm import SVC\n",
    "from sklearn.metrics import accuracy_score\n",
    "\n",
    "from sklearn.decomposition import PCA\n",
    "from sklearn.preprocessing import StandardScaler\n",
    "\n",
    "from sklearn.model_selection import GridSearchCV\n",
    "from sklearn.ensemble import RandomForestClassifier\n",
    "from sklearn.tree import DecisionTreeClassifier\n",
    "from sklearn.linear_model import LogisticRegression\n",
    "from sklearn.neighbors import KNeighborsClassifier\n",
    "from sklearn import svm\n",
    "from sklearn.svm import SVC\n",
    "from sklearn.naive_bayes import GaussianNB as Naive_Bayes\n",
    "from sklearn import metrics\n",
    "from sklearn.metrics import classification_report\n",
    "from sklearn.metrics import confusion_matrix\n",
    "from sklearn.metrics import accuracy_score\n",
    "from sklearn.model_selection import cross_val_score\n",
    "from sklearn.datasets import make_classification\n",
    "#from sklearn.metrics import plot_confusion_matrix\n",
    "from xgboost import XGBClassifier"
   ]
  },
  {
   "cell_type": "code",
   "execution_count": 218,
   "id": "fd9f345e",
   "metadata": {},
   "outputs": [
    {
     "data": {
      "text/html": [
       "<div>\n",
       "<style scoped>\n",
       "    .dataframe tbody tr th:only-of-type {\n",
       "        vertical-align: middle;\n",
       "    }\n",
       "\n",
       "    .dataframe tbody tr th {\n",
       "        vertical-align: top;\n",
       "    }\n",
       "\n",
       "    .dataframe thead th {\n",
       "        text-align: right;\n",
       "    }\n",
       "</style>\n",
       "<table border=\"1\" class=\"dataframe\">\n",
       "  <thead>\n",
       "    <tr style=\"text-align: right;\">\n",
       "      <th></th>\n",
       "      <th>name</th>\n",
       "      <th>MDVP:Fo(Hz)</th>\n",
       "      <th>MDVP:Fhi(Hz)</th>\n",
       "      <th>MDVP:Flo(Hz)</th>\n",
       "      <th>MDVP:Jitter(%)</th>\n",
       "      <th>MDVP:Jitter(Abs)</th>\n",
       "      <th>MDVP:RAP</th>\n",
       "      <th>MDVP:PPQ</th>\n",
       "      <th>Jitter:DDP</th>\n",
       "      <th>MDVP:Shimmer</th>\n",
       "      <th>...</th>\n",
       "      <th>Shimmer:DDA</th>\n",
       "      <th>NHR</th>\n",
       "      <th>HNR</th>\n",
       "      <th>RPDE</th>\n",
       "      <th>DFA</th>\n",
       "      <th>spread1</th>\n",
       "      <th>spread2</th>\n",
       "      <th>D2</th>\n",
       "      <th>PPE</th>\n",
       "      <th>status</th>\n",
       "    </tr>\n",
       "  </thead>\n",
       "  <tbody>\n",
       "    <tr>\n",
       "      <th>0</th>\n",
       "      <td>phon_R01_S01_1</td>\n",
       "      <td>119.992</td>\n",
       "      <td>157.302</td>\n",
       "      <td>74.997</td>\n",
       "      <td>0.00784</td>\n",
       "      <td>0.00007</td>\n",
       "      <td>0.00370</td>\n",
       "      <td>0.00554</td>\n",
       "      <td>0.01109</td>\n",
       "      <td>0.04374</td>\n",
       "      <td>...</td>\n",
       "      <td>0.06545</td>\n",
       "      <td>0.02211</td>\n",
       "      <td>21.033</td>\n",
       "      <td>0.414783</td>\n",
       "      <td>0.815285</td>\n",
       "      <td>-4.813031</td>\n",
       "      <td>0.266482</td>\n",
       "      <td>2.301442</td>\n",
       "      <td>0.284654</td>\n",
       "      <td>1</td>\n",
       "    </tr>\n",
       "    <tr>\n",
       "      <th>1</th>\n",
       "      <td>phon_R01_S01_2</td>\n",
       "      <td>122.400</td>\n",
       "      <td>148.650</td>\n",
       "      <td>113.819</td>\n",
       "      <td>0.00968</td>\n",
       "      <td>0.00008</td>\n",
       "      <td>0.00465</td>\n",
       "      <td>0.00696</td>\n",
       "      <td>0.01394</td>\n",
       "      <td>0.06134</td>\n",
       "      <td>...</td>\n",
       "      <td>0.09403</td>\n",
       "      <td>0.01929</td>\n",
       "      <td>19.085</td>\n",
       "      <td>0.458359</td>\n",
       "      <td>0.819521</td>\n",
       "      <td>-4.075192</td>\n",
       "      <td>0.335590</td>\n",
       "      <td>2.486855</td>\n",
       "      <td>0.368674</td>\n",
       "      <td>1</td>\n",
       "    </tr>\n",
       "    <tr>\n",
       "      <th>2</th>\n",
       "      <td>phon_R01_S01_3</td>\n",
       "      <td>116.682</td>\n",
       "      <td>131.111</td>\n",
       "      <td>111.555</td>\n",
       "      <td>0.01050</td>\n",
       "      <td>0.00009</td>\n",
       "      <td>0.00544</td>\n",
       "      <td>0.00781</td>\n",
       "      <td>0.01633</td>\n",
       "      <td>0.05233</td>\n",
       "      <td>...</td>\n",
       "      <td>0.08270</td>\n",
       "      <td>0.01309</td>\n",
       "      <td>20.651</td>\n",
       "      <td>0.429895</td>\n",
       "      <td>0.825288</td>\n",
       "      <td>-4.443179</td>\n",
       "      <td>0.311173</td>\n",
       "      <td>2.342259</td>\n",
       "      <td>0.332634</td>\n",
       "      <td>1</td>\n",
       "    </tr>\n",
       "    <tr>\n",
       "      <th>3</th>\n",
       "      <td>phon_R01_S01_4</td>\n",
       "      <td>116.676</td>\n",
       "      <td>137.871</td>\n",
       "      <td>111.366</td>\n",
       "      <td>0.00997</td>\n",
       "      <td>0.00009</td>\n",
       "      <td>0.00502</td>\n",
       "      <td>0.00698</td>\n",
       "      <td>0.01505</td>\n",
       "      <td>0.05492</td>\n",
       "      <td>...</td>\n",
       "      <td>0.08771</td>\n",
       "      <td>0.01353</td>\n",
       "      <td>20.644</td>\n",
       "      <td>0.434969</td>\n",
       "      <td>0.819235</td>\n",
       "      <td>-4.117501</td>\n",
       "      <td>0.334147</td>\n",
       "      <td>2.405554</td>\n",
       "      <td>0.368975</td>\n",
       "      <td>1</td>\n",
       "    </tr>\n",
       "    <tr>\n",
       "      <th>4</th>\n",
       "      <td>phon_R01_S01_5</td>\n",
       "      <td>116.014</td>\n",
       "      <td>141.781</td>\n",
       "      <td>110.655</td>\n",
       "      <td>0.01284</td>\n",
       "      <td>0.00011</td>\n",
       "      <td>0.00655</td>\n",
       "      <td>0.00908</td>\n",
       "      <td>0.01966</td>\n",
       "      <td>0.06425</td>\n",
       "      <td>...</td>\n",
       "      <td>0.10470</td>\n",
       "      <td>0.01767</td>\n",
       "      <td>19.649</td>\n",
       "      <td>0.417356</td>\n",
       "      <td>0.823484</td>\n",
       "      <td>-3.747787</td>\n",
       "      <td>0.234513</td>\n",
       "      <td>2.332180</td>\n",
       "      <td>0.410335</td>\n",
       "      <td>1</td>\n",
       "    </tr>\n",
       "  </tbody>\n",
       "</table>\n",
       "<p>5 rows × 24 columns</p>\n",
       "</div>"
      ],
      "text/plain": [
       "             name  MDVP:Fo(Hz)  MDVP:Fhi(Hz)  MDVP:Flo(Hz)  MDVP:Jitter(%)  \\\n",
       "0  phon_R01_S01_1      119.992       157.302        74.997         0.00784   \n",
       "1  phon_R01_S01_2      122.400       148.650       113.819         0.00968   \n",
       "2  phon_R01_S01_3      116.682       131.111       111.555         0.01050   \n",
       "3  phon_R01_S01_4      116.676       137.871       111.366         0.00997   \n",
       "4  phon_R01_S01_5      116.014       141.781       110.655         0.01284   \n",
       "\n",
       "   MDVP:Jitter(Abs)  MDVP:RAP  MDVP:PPQ  Jitter:DDP  MDVP:Shimmer  ...  \\\n",
       "0           0.00007   0.00370   0.00554     0.01109       0.04374  ...   \n",
       "1           0.00008   0.00465   0.00696     0.01394       0.06134  ...   \n",
       "2           0.00009   0.00544   0.00781     0.01633       0.05233  ...   \n",
       "3           0.00009   0.00502   0.00698     0.01505       0.05492  ...   \n",
       "4           0.00011   0.00655   0.00908     0.01966       0.06425  ...   \n",
       "\n",
       "   Shimmer:DDA      NHR     HNR      RPDE       DFA   spread1   spread2  \\\n",
       "0      0.06545  0.02211  21.033  0.414783  0.815285 -4.813031  0.266482   \n",
       "1      0.09403  0.01929  19.085  0.458359  0.819521 -4.075192  0.335590   \n",
       "2      0.08270  0.01309  20.651  0.429895  0.825288 -4.443179  0.311173   \n",
       "3      0.08771  0.01353  20.644  0.434969  0.819235 -4.117501  0.334147   \n",
       "4      0.10470  0.01767  19.649  0.417356  0.823484 -3.747787  0.234513   \n",
       "\n",
       "         D2       PPE  status  \n",
       "0  2.301442  0.284654       1  \n",
       "1  2.486855  0.368674       1  \n",
       "2  2.342259  0.332634       1  \n",
       "3  2.405554  0.368975       1  \n",
       "4  2.332180  0.410335       1  \n",
       "\n",
       "[5 rows x 24 columns]"
      ]
     },
     "execution_count": 218,
     "metadata": {},
     "output_type": "execute_result"
    }
   ],
   "source": [
    "data = pd.read_excel('PD_data.xlsx')\n",
    "data.head(5)"
   ]
  },
  {
   "cell_type": "code",
   "execution_count": 219,
   "id": "c800a1a8",
   "metadata": {},
   "outputs": [
    {
     "data": {
      "text/plain": [
       "name                 object\n",
       "MDVP:Fo(Hz)         float64\n",
       "MDVP:Fhi(Hz)        float64\n",
       "MDVP:Flo(Hz)        float64\n",
       "MDVP:Jitter(%)      float64\n",
       "MDVP:Jitter(Abs)    float64\n",
       "MDVP:RAP            float64\n",
       "MDVP:PPQ            float64\n",
       "Jitter:DDP          float64\n",
       "MDVP:Shimmer        float64\n",
       "MDVP:Shimmer(dB)    float64\n",
       "Shimmer:APQ3        float64\n",
       "Shimmer:APQ5        float64\n",
       "MDVP:APQ            float64\n",
       "Shimmer:DDA         float64\n",
       "NHR                 float64\n",
       "HNR                 float64\n",
       "RPDE                float64\n",
       "DFA                 float64\n",
       "spread1             float64\n",
       "spread2             float64\n",
       "D2                  float64\n",
       "PPE                 float64\n",
       "status                int64\n",
       "dtype: object"
      ]
     },
     "execution_count": 219,
     "metadata": {},
     "output_type": "execute_result"
    }
   ],
   "source": [
    "data.dtypes"
   ]
  },
  {
   "cell_type": "code",
   "execution_count": 220,
   "id": "136c0823",
   "metadata": {},
   "outputs": [],
   "source": [
    "num_cols = ['MDVP:Fo(Hz)', 'MDVP:Fhi(Hz)', 'MDVP:Flo(Hz)','MDVP:Jitter(%)', \n",
    "            'MDVP:Jitter(Abs)', 'MDVP:RAP', 'MDVP:PPQ', 'Jitter:DDP', 'MDVP:Shimmer', \n",
    "            'MDVP:Shimmer(dB)', 'Shimmer:APQ3', 'Shimmer:APQ5', 'MDVP:APQ', 'Shimmer:DDA', \n",
    "            'NHR', 'HNR', 'RPDE', 'DFA', 'spread1', 'spread2', 'D2', 'PPE', 'status']"
   ]
  },
  {
   "cell_type": "code",
   "execution_count": 221,
   "id": "ea258057",
   "metadata": {},
   "outputs": [],
   "source": [
    "corr_matrix = data[num_cols].corr()\n",
    "\n",
    "# compute the p-values for the correlation coefficients\n",
    "p_values = data[num_cols].corr(method=lambda x, y: stats.pearsonr(x, y)[1].round(3)) - np.eye(len(num_cols))"
   ]
  },
  {
   "cell_type": "code",
   "execution_count": 222,
   "id": "ee414ca9",
   "metadata": {},
   "outputs": [],
   "source": [
    "# variation_freq = ['MDVP:Jitter(%)', 'MDVP:Jitter(Abs)', 'MDVP:RAP', 'MDVP:PPQ', 'Jitter:DDP']\n",
    "variation_amp = ['MDVP:Shimmer', 'MDVP:Shimmer(dB)','Shimmer:APQ3', 'Shimmer:APQ5', 'MDVP:APQ', 'Shimmer:DDA']\n",
    "# fund_freq_vars = ['MDVP:Fo(Hz)', 'MDVP:Fhi(Hz)', 'MDVP:Flo(Hz)', 'status']"
   ]
  },
  {
   "cell_type": "code",
   "execution_count": 223,
   "id": "4b6f0f7c",
   "metadata": {},
   "outputs": [
    {
     "name": "stdout",
     "output_type": "stream",
     "text": [
      "                  MDVP:Shimmer  MDVP:Shimmer(dB)  Shimmer:APQ3  Shimmer:APQ5  \\\n",
      "MDVP:Shimmer               0.0               0.0           0.0           0.0   \n",
      "MDVP:Shimmer(dB)           0.0               0.0           0.0           0.0   \n",
      "Shimmer:APQ3               0.0               0.0           0.0           0.0   \n",
      "Shimmer:APQ5               0.0               0.0           0.0           0.0   \n",
      "MDVP:APQ                   0.0               0.0           0.0           0.0   \n",
      "Shimmer:DDA                0.0               0.0           0.0           0.0   \n",
      "\n",
      "                  MDVP:APQ  Shimmer:DDA  \n",
      "MDVP:Shimmer           0.0          0.0  \n",
      "MDVP:Shimmer(dB)       0.0          0.0  \n",
      "Shimmer:APQ3           0.0          0.0  \n",
      "Shimmer:APQ5           0.0          0.0  \n",
      "MDVP:APQ               0.0          0.0  \n",
      "Shimmer:DDA            0.0          0.0  \n",
      "                  MDVP:Jitter(%)  MDVP:Jitter(Abs)  MDVP:RAP  MDVP:PPQ  \\\n",
      "MDVP:Jitter(%)               0.0               0.0       0.0       0.0   \n",
      "MDVP:Jitter(Abs)             0.0               0.0       0.0       0.0   \n",
      "MDVP:RAP                     0.0               0.0       0.0       0.0   \n",
      "MDVP:PPQ                     0.0               0.0       0.0       0.0   \n",
      "Jitter:DDP                   0.0               0.0       0.0       0.0   \n",
      "\n",
      "                  Jitter:DDP  \n",
      "MDVP:Jitter(%)           0.0  \n",
      "MDVP:Jitter(Abs)         0.0  \n",
      "MDVP:RAP                 0.0  \n",
      "MDVP:PPQ                 0.0  \n",
      "Jitter:DDP               0.0  \n"
     ]
    }
   ],
   "source": [
    "print(amplitude_p_values)\n",
    "print(frequency_p_values)"
   ]
  },
  {
   "cell_type": "code",
   "execution_count": 224,
   "id": "09f69587",
   "metadata": {},
   "outputs": [
    {
     "name": "stdout",
     "output_type": "stream",
     "text": [
      "Number of outliers in MDVP:Fo(Hz): 0\n",
      "Number of outliers in MDVP:Fhi(Hz): 11\n",
      "Number of outliers in MDVP:Flo(Hz): 9\n",
      "Number of outliers in MDVP:Jitter(%): 14\n",
      "Number of outliers in MDVP:Jitter(Abs): 7\n",
      "Number of outliers in MDVP:RAP: 14\n",
      "Number of outliers in MDVP:PPQ: 15\n",
      "Number of outliers in Jitter:DDP: 14\n",
      "Number of outliers in MDVP:Shimmer: 8\n",
      "Number of outliers in MDVP:Shimmer(dB): 10\n",
      "Number of outliers in Shimmer:APQ3: 6\n",
      "Number of outliers in Shimmer:APQ5: 13\n",
      "Number of outliers in MDVP:APQ: 12\n",
      "Number of outliers in Shimmer:DDA: 6\n",
      "Number of outliers in NHR: 19\n",
      "Number of outliers in HNR: 3\n",
      "Number of outliers in RPDE: 0\n",
      "Number of outliers in DFA: 0\n",
      "Number of outliers in spread1: 4\n",
      "Number of outliers in spread2: 2\n",
      "Number of outliers in D2: 1\n",
      "Number of outliers in PPE: 5\n",
      "Number of outliers in status: 48\n"
     ]
    }
   ],
   "source": [
    "def count_outliers_iqr(column):\n",
    "    q1 = np.percentile(column, 25)\n",
    "    q3 = np.percentile(column, 75)\n",
    "    iqr = q3 - q1\n",
    "    upper_threshold = q3 + 1.5 * iqr\n",
    "    lower_threshold = q1 - 1.5 * iqr\n",
    "    num_outliers = sum((column > upper_threshold) | (column < lower_threshold))\n",
    "    return num_outliers\n",
    "\n",
    "for col in num_cols:\n",
    "    num_outliers = count_outliers_iqr(data[col])\n",
    "    print(f\"Number of outliers in {col}: {num_outliers}\")"
   ]
  },
  {
   "cell_type": "code",
   "execution_count": 225,
   "id": "2b151916",
   "metadata": {},
   "outputs": [],
   "source": [
    "data['MDVP:F_Spd'] = data['MDVP:Fhi(Hz)'] - data['MDVP:Flo(Hz)']"
   ]
  },
  {
   "cell_type": "code",
   "execution_count": 226,
   "id": "18195afd",
   "metadata": {},
   "outputs": [
    {
     "data": {
      "text/plain": [
       "Index(['name', 'MDVP:Fo(Hz)', 'MDVP:Fhi(Hz)', 'MDVP:Flo(Hz)', 'MDVP:Jitter(%)',\n",
       "       'MDVP:Jitter(Abs)', 'MDVP:RAP', 'MDVP:PPQ', 'Jitter:DDP',\n",
       "       'MDVP:Shimmer', 'MDVP:Shimmer(dB)', 'Shimmer:APQ3', 'Shimmer:APQ5',\n",
       "       'MDVP:APQ', 'Shimmer:DDA', 'NHR', 'HNR', 'RPDE', 'DFA', 'spread1',\n",
       "       'spread2', 'D2', 'PPE', 'status', 'MDVP:F_Spd'],\n",
       "      dtype='object')"
      ]
     },
     "execution_count": 226,
     "metadata": {},
     "output_type": "execute_result"
    }
   ],
   "source": [
    "df = data\n",
    "df.columns"
   ]
  },
  {
   "cell_type": "code",
   "execution_count": 227,
   "id": "697b7b57",
   "metadata": {},
   "outputs": [],
   "source": [
    "df = df.drop(['name','status'], axis = 1)"
   ]
  },
  {
   "cell_type": "code",
   "execution_count": 228,
   "id": "e65bc6bf",
   "metadata": {},
   "outputs": [
    {
     "data": {
      "text/plain": [
       "Index(['MDVP:Fo(Hz)', 'MDVP:Fhi(Hz)', 'MDVP:Flo(Hz)', 'MDVP:Jitter(%)',\n",
       "       'MDVP:Jitter(Abs)', 'MDVP:RAP', 'MDVP:PPQ', 'Jitter:DDP',\n",
       "       'MDVP:Shimmer', 'MDVP:Shimmer(dB)', 'Shimmer:APQ3', 'Shimmer:APQ5',\n",
       "       'MDVP:APQ', 'Shimmer:DDA', 'NHR', 'HNR', 'RPDE', 'DFA', 'spread1',\n",
       "       'spread2', 'D2', 'PPE', 'MDVP:F_Spd'],\n",
       "      dtype='object')"
      ]
     },
     "execution_count": 228,
     "metadata": {},
     "output_type": "execute_result"
    }
   ],
   "source": [
    "df.columns"
   ]
  },
  {
   "cell_type": "code",
   "execution_count": 229,
   "id": "268a9709",
   "metadata": {},
   "outputs": [],
   "source": [
    "# Standardize the data in the new dataframe\n",
    "scaler = StandardScaler()\n",
    "df_scale = scaler.fit_transform(df)\n",
    "\n",
    "df_scaled = pd.DataFrame(df_scale, columns=['MDVP:Fo(Hz)', 'MDVP:Fhi(Hz)', 'MDVP:Flo(Hz)', \n",
    "                                            'MDVP:Jitter(%)','MDVP:Jitter(Abs)', 'MDVP:RAP', \n",
    "                                            'MDVP:PPQ', 'Jitter:DDP', 'MDVP:Shimmer', \n",
    "                                            'MDVP:Shimmer(dB)', 'Shimmer:APQ3', 'Shimmer:APQ5',\n",
    "                                            'MDVP:APQ', 'Shimmer:DDA', 'NHR', 'HNR', 'RPDE', 'DFA', \n",
    "                                            'spread1', 'spread2', 'D2', 'PPE', 'MDVP:F_Spd'])"
   ]
  },
  {
   "cell_type": "code",
   "execution_count": 230,
   "id": "0f646da3",
   "metadata": {},
   "outputs": [],
   "source": [
    "df_scaled = df_scaled.drop(['MDVP:Jitter(%)', 'MDVP:RAP', 'MDVP:PPQ', 'Jitter:DDP', \n",
    "                          'MDVP:Shimmer(dB)', 'Shimmer:APQ3', 'Shimmer:APQ5', 'MDVP:APQ', 'Shimmer:DDA', \n",
    "                          'MDVP:Fhi(Hz)', 'MDVP:Flo(Hz)'], axis = 1)"
   ]
  },
  {
   "cell_type": "code",
   "execution_count": 231,
   "id": "2f61cc6d",
   "metadata": {
    "scrolled": true
   },
   "outputs": [
    {
     "data": {
      "text/plain": [
       "Index(['MDVP:Fo(Hz)', 'MDVP:Jitter(Abs)', 'MDVP:Shimmer', 'NHR', 'HNR', 'RPDE',\n",
       "       'DFA', 'spread1', 'spread2', 'D2', 'PPE', 'MDVP:F_Spd'],\n",
       "      dtype='object')"
      ]
     },
     "execution_count": 231,
     "metadata": {},
     "output_type": "execute_result"
    }
   ],
   "source": [
    "df_scaled.columns"
   ]
  },
  {
   "cell_type": "code",
   "execution_count": 232,
   "id": "cdd663d9",
   "metadata": {},
   "outputs": [],
   "source": [
    "df_scaled['status'] = data['status'].copy()"
   ]
  },
  {
   "cell_type": "code",
   "execution_count": 233,
   "id": "680df4c1",
   "metadata": {},
   "outputs": [],
   "source": [
    "corr_matrix = df_scaled.corr()\n",
    "\n",
    "# compute the p-values for the correlation coefficients\n",
    "p_values = df_scaled.corr(method=lambda x, y: stats.pearsonr(x, y)[1].round(3)) - np.eye(len(df_scaled.columns))"
   ]
  },
  {
   "cell_type": "code",
   "execution_count": 234,
   "id": "7dd70656",
   "metadata": {},
   "outputs": [
    {
     "name": "stdout",
     "output_type": "stream",
     "text": [
      "   Independent Variable  F-Statistic   p-value\n",
      "0           MDVP:Fo(Hz)     2.657278  0.000004\n",
      "1      MDVP:Jitter(Abs)     0.165384  1.000000\n",
      "2          MDVP:Shimmer     0.077082  1.000000\n",
      "3                   NHR     0.184438  1.000000\n",
      "4                   HNR     0.626512  0.967401\n",
      "5                  RPDE     0.829134  0.768594\n",
      "6                   DFA     0.878352  0.690939\n",
      "7               spread1     0.438404  0.999240\n",
      "8               spread2     0.655199  0.952602\n",
      "9                    D2     0.681864  0.935105\n",
      "10                  PPE     0.282867  0.999998\n",
      "11           MDVP:F_Spd     1.382442  0.075175\n"
     ]
    },
    {
     "name": "stderr",
     "output_type": "stream",
     "text": [
      "C:\\Users\\Mrinal Bhan\\AppData\\Local\\Temp\\ipykernel_1324\\550281234.py:8: FutureWarning: The frame.append method is deprecated and will be removed from pandas in a future version. Use pandas.concat instead.\n",
      "  ftest_scaled_results = ftest_scaled_results.append({'Independent Variable': col, 'F-Statistic': f_stat, 'p-value': p_value}, ignore_index=True)\n",
      "C:\\Users\\Mrinal Bhan\\AppData\\Local\\Temp\\ipykernel_1324\\550281234.py:8: FutureWarning: The frame.append method is deprecated and will be removed from pandas in a future version. Use pandas.concat instead.\n",
      "  ftest_scaled_results = ftest_scaled_results.append({'Independent Variable': col, 'F-Statistic': f_stat, 'p-value': p_value}, ignore_index=True)\n",
      "C:\\Users\\Mrinal Bhan\\AppData\\Local\\Temp\\ipykernel_1324\\550281234.py:8: FutureWarning: The frame.append method is deprecated and will be removed from pandas in a future version. Use pandas.concat instead.\n",
      "  ftest_scaled_results = ftest_scaled_results.append({'Independent Variable': col, 'F-Statistic': f_stat, 'p-value': p_value}, ignore_index=True)\n",
      "C:\\Users\\Mrinal Bhan\\AppData\\Local\\Temp\\ipykernel_1324\\550281234.py:8: FutureWarning: The frame.append method is deprecated and will be removed from pandas in a future version. Use pandas.concat instead.\n",
      "  ftest_scaled_results = ftest_scaled_results.append({'Independent Variable': col, 'F-Statistic': f_stat, 'p-value': p_value}, ignore_index=True)\n",
      "C:\\Users\\Mrinal Bhan\\AppData\\Local\\Temp\\ipykernel_1324\\550281234.py:8: FutureWarning: The frame.append method is deprecated and will be removed from pandas in a future version. Use pandas.concat instead.\n",
      "  ftest_scaled_results = ftest_scaled_results.append({'Independent Variable': col, 'F-Statistic': f_stat, 'p-value': p_value}, ignore_index=True)\n",
      "C:\\Users\\Mrinal Bhan\\AppData\\Local\\Temp\\ipykernel_1324\\550281234.py:8: FutureWarning: The frame.append method is deprecated and will be removed from pandas in a future version. Use pandas.concat instead.\n",
      "  ftest_scaled_results = ftest_scaled_results.append({'Independent Variable': col, 'F-Statistic': f_stat, 'p-value': p_value}, ignore_index=True)\n",
      "C:\\Users\\Mrinal Bhan\\AppData\\Local\\Temp\\ipykernel_1324\\550281234.py:8: FutureWarning: The frame.append method is deprecated and will be removed from pandas in a future version. Use pandas.concat instead.\n",
      "  ftest_scaled_results = ftest_scaled_results.append({'Independent Variable': col, 'F-Statistic': f_stat, 'p-value': p_value}, ignore_index=True)\n",
      "C:\\Users\\Mrinal Bhan\\AppData\\Local\\Temp\\ipykernel_1324\\550281234.py:8: FutureWarning: The frame.append method is deprecated and will be removed from pandas in a future version. Use pandas.concat instead.\n",
      "  ftest_scaled_results = ftest_scaled_results.append({'Independent Variable': col, 'F-Statistic': f_stat, 'p-value': p_value}, ignore_index=True)\n",
      "C:\\Users\\Mrinal Bhan\\AppData\\Local\\Temp\\ipykernel_1324\\550281234.py:8: FutureWarning: The frame.append method is deprecated and will be removed from pandas in a future version. Use pandas.concat instead.\n",
      "  ftest_scaled_results = ftest_scaled_results.append({'Independent Variable': col, 'F-Statistic': f_stat, 'p-value': p_value}, ignore_index=True)\n",
      "C:\\Users\\Mrinal Bhan\\AppData\\Local\\Temp\\ipykernel_1324\\550281234.py:8: FutureWarning: The frame.append method is deprecated and will be removed from pandas in a future version. Use pandas.concat instead.\n",
      "  ftest_scaled_results = ftest_scaled_results.append({'Independent Variable': col, 'F-Statistic': f_stat, 'p-value': p_value}, ignore_index=True)\n",
      "C:\\Users\\Mrinal Bhan\\AppData\\Local\\Temp\\ipykernel_1324\\550281234.py:8: FutureWarning: The frame.append method is deprecated and will be removed from pandas in a future version. Use pandas.concat instead.\n",
      "  ftest_scaled_results = ftest_scaled_results.append({'Independent Variable': col, 'F-Statistic': f_stat, 'p-value': p_value}, ignore_index=True)\n",
      "C:\\Users\\Mrinal Bhan\\AppData\\Local\\Temp\\ipykernel_1324\\550281234.py:8: FutureWarning: The frame.append method is deprecated and will be removed from pandas in a future version. Use pandas.concat instead.\n",
      "  ftest_scaled_results = ftest_scaled_results.append({'Independent Variable': col, 'F-Statistic': f_stat, 'p-value': p_value}, ignore_index=True)\n"
     ]
    }
   ],
   "source": [
    "ftest_scaled_results = pd.DataFrame(columns=['Independent Variable', 'F-Statistic', 'p-value'])\n",
    "scale_cols = ['MDVP:Fo(Hz)', 'MDVP:Jitter(Abs)', 'MDVP:Shimmer', 'NHR', 'HNR', 'RPDE','DFA', \n",
    "              'spread1', 'spread2', 'D2', 'PPE', 'MDVP:F_Spd']\n",
    "\n",
    "# Iterate over the columns in the DataFrame and apply the f_test function to each one\n",
    "for col in scale_cols:\n",
    "    f_stat, p_value = f_test(df_scaled, col, 'status')\n",
    "    ftest_scaled_results = ftest_scaled_results.append({'Independent Variable': col, 'F-Statistic': f_stat, 'p-value': p_value}, ignore_index=True)\n",
    "\n",
    "# Print the results table\n",
    "print(ftest_scaled_results)\n"
   ]
  },
  {
   "attachments": {},
   "cell_type": "markdown",
   "id": "8e15810a",
   "metadata": {},
   "source": [
    "# Applying Dimensionality Reduction Techniques such as PCA"
   ]
  },
  {
   "cell_type": "code",
   "execution_count": 235,
   "id": "e03871aa",
   "metadata": {},
   "outputs": [
    {
     "data": {
      "text/plain": [
       "Index(['name', 'MDVP:Fo(Hz)', 'MDVP:Fhi(Hz)', 'MDVP:Flo(Hz)', 'MDVP:Jitter(%)',\n",
       "       'MDVP:Jitter(Abs)', 'MDVP:RAP', 'MDVP:PPQ', 'Jitter:DDP',\n",
       "       'MDVP:Shimmer', 'MDVP:Shimmer(dB)', 'Shimmer:APQ3', 'Shimmer:APQ5',\n",
       "       'MDVP:APQ', 'Shimmer:DDA', 'NHR', 'HNR', 'RPDE', 'DFA', 'spread1',\n",
       "       'spread2', 'D2', 'PPE', 'status', 'MDVP:F_Spd'],\n",
       "      dtype='object')"
      ]
     },
     "execution_count": 235,
     "metadata": {},
     "output_type": "execute_result"
    }
   ],
   "source": [
    "df_pc = data\n",
    "df_pc.columns"
   ]
  },
  {
   "cell_type": "code",
   "execution_count": 236,
   "id": "fde82f49",
   "metadata": {},
   "outputs": [],
   "source": [
    "df_pc = df_pc.drop(['name'], axis = 1)"
   ]
  },
  {
   "cell_type": "code",
   "execution_count": 237,
   "id": "eafd9bac",
   "metadata": {},
   "outputs": [],
   "source": [
    "freq_var = ['MDVP:Jitter(%)', 'MDVP:Jitter(Abs)', 'MDVP:RAP', 'MDVP:PPQ', 'Jitter:DDP']\n",
    "df_pc1 = df_pc[freq_var]  "
   ]
  },
  {
   "cell_type": "code",
   "execution_count": 238,
   "id": "dc7614a4",
   "metadata": {},
   "outputs": [
    {
     "data": {
      "text/plain": [
       "array([[ 3.34913859e-01,  7.49759461e-01,  1.32962547e-01,\n",
       "         7.60800232e-01,  1.31755322e-01],\n",
       "       [ 7.15418253e-01,  1.03767418e+00,  4.53891693e-01,\n",
       "         1.27680862e+00,  4.52683706e-01],\n",
       "       [ 8.84990863e-01,  1.32558890e+00,  7.20769613e-01,\n",
       "         1.58568688e+00,  7.21813123e-01],\n",
       "       [ 7.75389054e-01,  1.32558890e+00,  5.78885149e-01,\n",
       "         1.28407634e+00,  5.77676867e-01],\n",
       "       [ 1.36889319e+00,  1.90141834e+00,  1.09574998e+00,\n",
       "         2.04718734e+00,  1.09679260e+00],\n",
       "       [ 7.15418253e-01,  1.03767418e+00,  4.47135289e-01,\n",
       "         1.47303716e+00,  4.45927319e-01],\n",
       "       [-5.97735498e-01, -4.01899420e-01, -5.93350781e-01,\n",
       "        -5.18319151e-01, -5.92304156e-01],\n",
       "       [-6.86657720e-01, -4.01899420e-01, -6.30510998e-01,\n",
       "        -5.90996388e-01, -6.31716413e-01],\n",
       "       [-1.46920509e-01,  4.61844741e-01, -1.27158970e-01,\n",
       "        -4.59171060e-02, -1.26113450e-01],\n",
       "       [-1.86211724e-01,  4.61844741e-01, -2.11614009e-01,\n",
       "        -4.59171060e-02, -2.12820417e-01],\n",
       "       [-2.42046608e-01,  4.61844741e-01, -2.58908830e-01,\n",
       "        -5.31848298e-02, -2.57862997e-01],\n",
       "       [-1.69668055e-01,  4.61844741e-01, -1.67697389e-01,\n",
       "        -3.13816585e-02, -1.66651772e-01],\n",
       "       [-6.80453844e-01, -6.89814140e-01, -7.18344238e-01,\n",
       "        -6.96378383e-01, -7.17297316e-01],\n",
       "       [-4.79861854e-01, -4.01899420e-01, -5.59568766e-01,\n",
       "        -4.96515979e-01, -5.58522221e-01],\n",
       "       [-6.78385886e-01, -6.89814140e-01, -7.08209633e-01,\n",
       "        -7.10913830e-01, -7.07162735e-01],\n",
       "       [-5.23288986e-01, -4.01899420e-01, -5.86594378e-01,\n",
       "        -5.14685289e-01, -5.86673833e-01],\n",
       "       [-1.61396220e-01, -1.13984699e-01, -4.04171496e-01,\n",
       "        -1.91271581e-01, -4.05377448e-01],\n",
       "       [ 1.98428587e-01, -1.13984699e-01, -1.57562784e-01,\n",
       "         1.53945297e-01, -1.56517192e-01],\n",
       "       [ 2.48059595e-01,  1.73930021e-01,  1.12693338e-01,\n",
       "         3.17469082e-01,  1.12612225e-01],\n",
       "       [ 3.01826521e-01,  1.73930021e-01,  1.39718950e-01,\n",
       "         1.97551640e-01,  1.39637773e-01],\n",
       "       [ 4.50719544e-01,  1.73930021e-01,  3.28898236e-01,\n",
       "         3.82878596e-01,  3.29942675e-01],\n",
       "       [-2.93745574e-01, -4.01899420e-01, -3.33229264e-01,\n",
       "        -2.82118128e-01, -3.33309319e-01],\n",
       "       [-3.72328004e-01, -4.01899420e-01, -3.73767682e-01,\n",
       "        -3.54795366e-01, -3.72721577e-01],\n",
       "       [-3.02017409e-01, -4.01899420e-01, -3.70389480e-01,\n",
       "        -3.14822885e-01, -3.70469448e-01],\n",
       "       [ 2.48059595e-01,  1.73930021e-01,  1.66744563e-01,\n",
       "         1.64846883e-01,  1.66663322e-01],\n",
       "       [ 2.26521010e-02,  4.61844741e-01, -4.94603352e-02,\n",
       "         1.10338955e-01, -4.95410636e-02],\n",
       "       [-3.45444541e-01, -4.01899420e-01, -2.72421636e-01,\n",
       "        -4.02035570e-01, -2.72501836e-01],\n",
       "       [-2.60658236e-01, -4.01899420e-01, -2.72421636e-01,\n",
       "        -2.53047233e-01, -2.73627900e-01],\n",
       "       [-6.45298547e-01, -6.89814140e-01, -5.79837975e-01,\n",
       "        -6.12799559e-01, -5.81043511e-01],\n",
       "       [-2.48250484e-01, -4.01899420e-01, -1.71075590e-01,\n",
       "        -3.32992195e-01, -1.70029966e-01],\n",
       "       [-6.88725679e-01, -9.77728860e-01, -5.56190564e-01,\n",
       "        -6.41870455e-01, -5.56270092e-01],\n",
       "       [-7.87987695e-01, -9.77728860e-01, -6.64293013e-01,\n",
       "        -7.50886311e-01, -6.64372284e-01],\n",
       "       [-8.47958496e-01, -9.77728860e-01, -7.35235245e-01,\n",
       "        -7.61787897e-01, -7.35314348e-01],\n",
       "       [-9.14133173e-01, -1.00652033e+00, -8.02799276e-01,\n",
       "        -8.63536029e-01, -8.04004283e-01],\n",
       "       [-9.18269091e-01, -1.00652033e+00, -7.99421074e-01,\n",
       "        -8.67169891e-01, -7.98373960e-01],\n",
       "       [-8.76909917e-01, -9.77728860e-01, -7.62260858e-01,\n",
       "        -8.34465134e-01, -7.63465961e-01],\n",
       "       [-4.36434722e-01, -6.89814140e-01, -3.29851062e-01,\n",
       "        -3.76598537e-01, -3.28805061e-01],\n",
       "       [-5.23288986e-01, -6.89814140e-01, -4.24440705e-01,\n",
       "        -4.60177360e-01, -4.23394480e-01],\n",
       "       [-6.99065472e-01, -6.89814140e-01, -6.00107184e-01,\n",
       "        -6.49138178e-01, -6.00186607e-01],\n",
       "       [-6.32890795e-01, -6.89814140e-01, -5.49434161e-01,\n",
       "        -5.90996388e-01, -5.49513704e-01],\n",
       "       [-6.70114051e-01, -6.89814140e-01, -5.59568766e-01,\n",
       "        -6.16433421e-01, -5.58522221e-01],\n",
       "       [-7.52832398e-01, -9.77728860e-01, -6.64293013e-01,\n",
       "        -7.18181554e-01, -6.63246220e-01],\n",
       "       [-6.70114051e-01, -9.77728860e-01, -5.46055960e-01,\n",
       "        -5.90996388e-01, -5.46135511e-01],\n",
       "       [-7.05269348e-01, -9.77728860e-01, -5.86594378e-01,\n",
       "        -6.23701145e-01, -5.87799898e-01],\n",
       "       [-8.52094413e-01, -1.00652033e+00, -7.48748052e-01,\n",
       "        -7.54520173e-01, -7.48827122e-01],\n",
       "       [-8.21075033e-01, -1.00652033e+00, -7.21722439e-01,\n",
       "        -7.47252449e-01, -7.22927638e-01],\n",
       "       [-8.00395447e-01, -9.77728860e-01, -6.87940424e-01,\n",
       "        -7.14547692e-01, -6.89145703e-01],\n",
       "       [-9.03793380e-01, -1.06410328e+00, -8.06177478e-01,\n",
       "        -8.41732858e-01, -8.06256412e-01],\n",
       "       [-2.02755393e-01, -1.13984699e-01, -5.46055960e-01,\n",
       "        -5.14685289e-01, -5.46135511e-01],\n",
       "       [-4.01279425e-01, -4.01899420e-01, -6.98075029e-01,\n",
       "        -6.89110659e-01, -6.97028155e-01],\n",
       "       [-3.95075549e-01, -4.01899420e-01, -6.40645603e-01,\n",
       "        -6.45504316e-01, -6.41850994e-01],\n",
       "       [-3.59920252e-01, -1.13984699e-01, -6.74427618e-01,\n",
       "        -6.38236593e-01, -6.74506865e-01],\n",
       "       [-3.84735756e-01, -4.01899420e-01, -6.54158409e-01,\n",
       "        -6.49138178e-01, -6.54237704e-01],\n",
       "       [-2.73065988e-01, -1.13984699e-01, -5.59568766e-01,\n",
       "        -5.87362526e-01, -5.59648285e-01],\n",
       "       [ 2.87350810e-01,  7.49759461e-01,  6.20203152e-02,\n",
       "         5.13697624e-01,  6.08132580e-02],\n",
       "       [ 5.21030139e-01,  1.03767418e+00,  2.27552190e-01,\n",
       "         7.06292303e-01,  2.26344740e-01],\n",
       "       [ 3.34913859e-01,  7.49759461e-01,  7.21549198e-02,\n",
       "         6.15445756e-01,  7.20739031e-02],\n",
       "       [ 2.68739182e-01,  4.61844741e-01, -1.06889761e-01,\n",
       "         4.51921972e-01, -1.05844289e-01],\n",
       "       [ 3.43185694e-01,  7.49759461e-01,  1.13472923e-02,\n",
       "         5.39134657e-01,  1.23924843e-02],\n",
       "       [ 5.06554428e-01,  1.03767418e+00,  1.43097152e-01,\n",
       "         6.37248928e-01,  1.44142032e-01],\n",
       "       [-7.03201390e-01, -9.77728860e-01, -6.20376393e-01,\n",
       "        -7.00012245e-01, -6.19329704e-01],\n",
       "       [-7.40424646e-01, -9.77728860e-01, -5.96728983e-01,\n",
       "        -7.03646107e-01, -5.97934478e-01],\n",
       "       [-7.36288728e-01, -9.77728860e-01, -6.03485386e-01,\n",
       "        -7.29083140e-01, -6.02438736e-01],\n",
       "       [-6.74249968e-01, -9.77728860e-01, -5.25786751e-01,\n",
       "        -6.89110659e-01, -5.24740285e-01],\n",
       "       [-8.62434207e-01, -1.00652033e+00, -7.31857044e-01,\n",
       "        -8.41732858e-01, -7.31936155e-01],\n",
       "       [-7.94191571e-01, -9.77728860e-01, -6.57536610e-01,\n",
       "        -7.43618587e-01, -6.57615897e-01],\n",
       "       [ 4.03156495e-01,  4.61844741e-01,  3.35654639e-01,\n",
       "         3.46539977e-01,  3.34446933e-01],\n",
       "       [ 6.22360113e-01,  7.49759461e-01,  5.95776157e-01,\n",
       "         4.30118800e-01,  5.94567834e-01],\n",
       "       [ 9.90456755e-01,  1.03767418e+00,  1.06872437e+00,\n",
       "         4.44654248e-01,  1.06864099e+00],\n",
       "       [ 2.89418769e-01,  1.73930021e-01,  4.60648096e-01,\n",
       "         3.40278554e-02,  4.59440093e-01],\n",
       "       [ 4.32107916e-01,  4.61844741e-01,  4.67404499e-01,\n",
       "         2.70228878e-01,  4.67322545e-01],\n",
       "       [ 7.21622129e-01,  7.49759461e-01,  6.86987598e-01,\n",
       "         4.84626729e-01,  6.85779059e-01],\n",
       "       [-4.48842474e-01, -4.01899420e-01, -5.08895743e-01,\n",
       "        -4.52909637e-01, -5.08975382e-01],\n",
       "       [-1.84143765e-01,  1.73930021e-01, -2.11614009e-01,\n",
       "        -5.68186917e-02, -2.10568288e-01],\n",
       "       [-2.64794153e-01, -1.13984699e-01, -2.38639621e-01,\n",
       "        -2.23976338e-01, -2.38719901e-01],\n",
       "       [-2.19299063e-01,  1.73930021e-01, -1.81210195e-01,\n",
       "        -2.02173167e-01, -1.81290611e-01],\n",
       "       [-2.52386401e-01, -1.13984699e-01, -2.04857605e-01,\n",
       "        -2.02173167e-01, -2.04937965e-01],\n",
       "       [-3.30968830e-01, -1.13984699e-01, -3.53498473e-01,\n",
       "        -2.34877924e-01, -3.54704545e-01],\n",
       "       [-2.90468655e-02,  4.61844741e-01,  1.21268773e-03,\n",
       "        -4.59171060e-02,  2.25790370e-03],\n",
       "       [ 8.60175360e-01,  1.61350362e+00,  9.84269332e-01,\n",
       "         8.40745193e-01,  9.83060089e-01],\n",
       "       [ 1.48797579e-01,  7.49759461e-01,  1.97148376e-01,\n",
       "         2.55693430e-01,  1.98193128e-01],\n",
       "       [ 1.65341249e-01,  7.49759461e-01,  3.28898236e-01,\n",
       "         9.58035073e-02,  3.27690546e-01],\n",
       "       [-3.31827829e-02,  4.61844741e-01,  6.87767183e-02,\n",
       "         1.22246841e-02,  6.86957096e-02],\n",
       "       [-3.93007590e-01, -1.13984699e-01, -2.82556241e-01,\n",
       "        -3.14822885e-01, -2.81510352e-01],\n",
       "       [ 2.58399389e-01, -1.13984699e-01,  2.95116221e-01,\n",
       "         2.73862740e-01,  2.95034675e-01],\n",
       "       [-4.46774515e-01, -6.89814140e-01, -3.73767682e-01,\n",
       "        -3.65696952e-01, -3.74973706e-01],\n",
       "       [-6.22551002e-01, -6.89814140e-01, -5.66325169e-01,\n",
       "        -5.47390046e-01, -5.67530737e-01],\n",
       "       [-2.11027228e-01, -4.01899420e-01, -1.47428180e-01,\n",
       "        -1.18594344e-01, -1.46382611e-01],\n",
       "       [-3.59920252e-01, -4.01899420e-01, -3.16338256e-01,\n",
       "        -3.29358333e-01, -3.17544416e-01],\n",
       "       [ 1.79816959e-01, -1.13984699e-01,  2.03904779e-01,\n",
       "         2.70228878e-01,  2.02697386e-01],\n",
       "       [ 2.48059595e-01, -1.13984699e-01,  1.90391973e-01,\n",
       "         3.93780182e-01,  1.90310676e-01],\n",
       "       [-4.19891053e-01, -4.01899420e-01, -3.60254876e-01,\n",
       "        -4.27472604e-01, -3.60334867e-01],\n",
       "       [-3.37172706e-01, -4.01899420e-01, -2.72421636e-01,\n",
       "        -3.22090609e-01, -2.72501836e-01],\n",
       "       [-4.96405523e-01, -4.01899420e-01, -4.71735526e-01,\n",
       "        -4.31106465e-01, -4.70689189e-01],\n",
       "       [-5.46036531e-01, -6.89814140e-01, -4.54844519e-01,\n",
       "        -5.40122322e-01, -4.56050350e-01],\n",
       "       [-5.23288986e-01, -6.89814140e-01, -4.37953511e-01,\n",
       "        -5.36488460e-01, -4.39159383e-01],\n",
       "       [-5.79123870e-01, -6.89814140e-01, -5.15652146e-01,\n",
       "        -5.83728664e-01, -5.14605705e-01],\n",
       "       [ 1.36062136e+00,  1.61350362e+00,  1.39303172e+00,\n",
       "         1.01153670e+00,  1.39182150e+00],\n",
       "       [ 1.56328130e+00,  1.90141834e+00,  1.67342244e+00,\n",
       "         1.12782028e+00,  1.67333763e+00],\n",
       "       [ 2.71720224e+00,  3.05307722e+00,  2.79836355e+00,\n",
       "         2.34516401e+00,  2.79715001e+00],\n",
       "       [ 5.57098519e+00,  6.22013914e+00,  6.12589206e+00,\n",
       "         4.27837853e+00,  6.12692275e+00],\n",
       "       [ 1.92103815e+00,  2.18933306e+00,  1.94030036e+00,\n",
       "         2.05082120e+00,  1.94134098e+00],\n",
       "       [ 4.94025780e+00,  5.06848026e+00,  5.14621362e+00,\n",
       "         4.66356789e+00,  5.14724663e+00],\n",
       "       [-7.73511984e-01, -6.89814140e-01, -7.62260858e-01,\n",
       "        -7.58154035e-01, -7.62339896e-01],\n",
       "       [-9.07929297e-01, -9.77728860e-01, -8.60228702e-01,\n",
       "        -8.88973062e-01, -8.59181444e-01],\n",
       "       [-7.54900356e-01, -6.89814140e-01, -7.25100641e-01,\n",
       "        -7.65421758e-01, -7.24053703e-01],\n",
       "       [-9.38948677e-01, -9.77728860e-01, -8.87254314e-01,\n",
       "        -9.18043957e-01, -8.87333056e-01],\n",
       "       [-7.52832398e-01, -6.89814140e-01, -7.28478842e-01,\n",
       "        -8.09028101e-01, -7.27431897e-01],\n",
       "       [-9.26540925e-01, -9.77728860e-01, -8.63606904e-01,\n",
       "        -9.03508510e-01, -8.63685702e-01],\n",
       "       [ 2.97690603e-01, -1.13984699e-01,  4.03218670e-01,\n",
       "         1.61213021e-01,  4.04262933e-01],\n",
       "       [-2.16340291e-03, -4.01899420e-01,  1.36340749e-01,\n",
       "        -2.77477966e-02,  1.35133515e-01],\n",
       "       [-2.69789069e-02, -4.01899420e-01,  1.26206144e-01,\n",
       "        -2.04800729e-02,  1.27251064e-01],\n",
       "       [ 4.52787503e-01, -1.13984699e-01,  5.78885149e-01,\n",
       "         5.10063762e-01,  5.78802931e-01],\n",
       "       [-1.82075807e-01, -4.01899420e-01, -3.25693276e-02,\n",
       "        -2.34877924e-01, -3.15240315e-02],\n",
       "       [-2.62726194e-01, -6.89814140e-01, -9.67551566e-02,\n",
       "        -3.58429228e-01, -9.79618374e-02],\n",
       "       [ 4.83806883e-01,  4.61844741e-01,  2.47821399e-01,\n",
       "         1.46677574e-01,  2.46613902e-01],\n",
       "       [-3.02017409e-01, -4.01899420e-01, -3.94036891e-01,\n",
       "        -5.00149841e-01, -3.94116803e-01],\n",
       "       [-1.38648675e-01, -4.01899420e-01, -2.92690845e-01,\n",
       "        -3.03921300e-01, -2.93897062e-01],\n",
       "       [-3.30968830e-01, -4.01899420e-01, -5.86594378e-01,\n",
       "        -5.47390046e-01, -5.85547769e-01],\n",
       "       [-4.50910433e-01, -6.89814140e-01, -6.87940424e-01,\n",
       "        -7.87224930e-01, -6.88019639e-01],\n",
       "       [-8.48817494e-02,  1.73930021e-01, -3.02825450e-01,\n",
       "        -1.11326620e-01, -3.02905578e-01],\n",
       "       [-3.35104748e-01, -4.01899420e-01, -4.10927899e-01,\n",
       "        -4.49275775e-01, -4.09881706e-01],\n",
       "       [ 1.69477166e-01,  1.73930021e-01,  2.54577802e-01,\n",
       "         1.93917778e-01,  2.54496353e-01],\n",
       "       [ 4.54855462e-01,  1.73930021e-01,  5.92397955e-01,\n",
       "         3.79244734e-01,  5.91189641e-01],\n",
       "       [ 1.48797579e-01, -1.13984699e-01,  2.44443198e-01,\n",
       "         1.83016192e-01,  2.44361773e-01],\n",
       "       [ 2.29447967e-01,  1.73930021e-01,  2.81603415e-01,\n",
       "         2.81130463e-01,  2.81521901e-01],\n",
       "       [-1.61396220e-01, -1.13984699e-01, -1.23780769e-01,\n",
       "        -6.40864154e-02, -1.22735257e-01],\n",
       "       [ 3.29918944e-02, -1.13984699e-01,  1.26206144e-01,\n",
       "         2.31262697e-02,  1.26124999e-01],\n",
       "       [-3.76463921e-01, -1.13984699e-01, -3.94036891e-01,\n",
       "        -5.54657769e-01, -3.95242867e-01],\n",
       "       [-7.28016894e-01, -6.89814140e-01, -7.25100641e-01,\n",
       "        -7.61787897e-01, -7.24053703e-01],\n",
       "       [-2.68930070e-01, -1.13984699e-01, -2.08235807e-01,\n",
       "        -3.87500123e-01, -2.07190095e-01],\n",
       "       [-4.44706557e-01, -4.01899420e-01, -3.60254876e-01,\n",
       "        -5.07417565e-01, -3.61460932e-01],\n",
       "       [-5.70852035e-01, -4.01899420e-01, -5.46055960e-01,\n",
       "        -6.34602731e-01, -5.45009446e-01],\n",
       "       [-6.01871415e-01, -4.01899420e-01, -5.49434161e-01,\n",
       "        -6.30968869e-01, -5.49513704e-01],\n",
       "       [-6.83380801e-02,  4.61844741e-01, -1.33915373e-01,\n",
       "        -9.31573105e-02, -1.33995902e-01],\n",
       "       [-2.64794153e-01, -1.13984699e-01, -2.92690845e-01,\n",
       "        -1.07692758e-01, -2.93897062e-01],\n",
       "       [-3.53716376e-01, -1.13984699e-01, -3.77145883e-01,\n",
       "        -2.23976338e-01, -3.76099770e-01],\n",
       "       [-2.48250484e-01, -1.13984699e-01, -2.48774225e-01,\n",
       "        -1.18594344e-01, -2.47728417e-01],\n",
       "       [-3.10289244e-01, -1.13984699e-01, -3.12960054e-01,\n",
       "        -1.98539305e-01, -3.11914094e-01],\n",
       "       [-4.98473482e-01, -4.01899420e-01, -5.05517542e-01,\n",
       "        -4.09303294e-01, -5.06723253e-01],\n",
       "       [-1.05561336e-01, -4.01899420e-01, -3.33229264e-01,\n",
       "        -2.74850405e-01, -3.33309319e-01],\n",
       "       [ 2.79078975e-01, -1.13984699e-01,  3.28898236e-01,\n",
       "         3.02933635e-01,  3.29942675e-01],\n",
       "       [-5.08813275e-01, -6.89814140e-01, -5.02139340e-01,\n",
       "        -4.71078946e-01, -5.02218995e-01],\n",
       "       [-5.21221027e-01, -6.89814140e-01, -4.78491929e-01,\n",
       "        -4.85614394e-01, -4.77445576e-01],\n",
       "       [-7.61104232e-01, -9.77728860e-01, -7.79151865e-01,\n",
       "        -7.69055620e-01, -7.78104799e-01],\n",
       "       [-5.58444283e-01, -6.89814140e-01, -5.46055960e-01,\n",
       "        -5.69193217e-01, -5.47261575e-01],\n",
       "       [ 1.95619345e+00,  1.32558890e+00,  1.79841590e+00,\n",
       "         2.18527409e+00,  1.79833079e+00],\n",
       "       [ 1.74526167e+00,  1.03767418e+00,  1.75112108e+00,\n",
       "         1.72377363e+00,  1.74991002e+00],\n",
       "       [ 2.26845521e+00,  1.32558890e+00,  2.24771670e+00,\n",
       "         2.47961690e+00,  2.24650447e+00],\n",
       "       [ 2.07820301e+00,  1.03767418e+00,  1.98759519e+00,\n",
       "         2.24704974e+00,  1.98638356e+00],\n",
       "       [ 2.58485288e+00,  1.61350362e+00,  2.51459462e+00,\n",
       "         2.94111736e+00,  2.51450782e+00],\n",
       "       [ 5.13878183e+00,  3.34099194e+00,  4.96379073e+00,\n",
       "         5.86274231e+00,  4.96482418e+00],\n",
       "       [ 4.32607408e+00,  2.76516250e+00,  4.18004798e+00,\n",
       "         4.92157209e+00,  4.18108329e+00],\n",
       "       [ 1.28117993e-01,  4.61844741e-01,  1.93770175e-01,\n",
       "        -4.59171060e-02,  1.93688870e-01],\n",
       "       [ 1.44661662e-01,  4.61844741e-01,  2.10661182e-01,\n",
       "        -1.62200686e-01,  2.10579837e-01],\n",
       "       [ 5.16035223e-02,  1.73930021e-01,  8.56677259e-02,\n",
       "        -1.62200686e-01,  8.44606127e-02],\n",
       "       [ 2.17040215e-01,  4.61844741e-01,  2.84981616e-01,\n",
       "        -2.04800729e-02,  2.86026159e-01],\n",
       "       [ 2.46284332e+00,  3.05307722e+00,  2.65647909e+00,\n",
       "         1.35675358e+00,  2.65639195e+00],\n",
       "       [ 7.29893964e-01,  1.03767418e+00,  8.86301488e-01,\n",
       "         3.97414043e-01,  8.85092477e-01],\n",
       "       [-3.52507415e-02,  1.73930021e-01, -3.25693276e-02,\n",
       "        -9.67911724e-02, -3.37761605e-02],\n",
       "       [-8.48817494e-02,  1.73930021e-01, -1.06889761e-01,\n",
       "        -1.04058896e-01, -1.08096418e-01],\n",
       "       [-6.29932023e-03,  1.73930021e-01,  7.21549198e-02,\n",
       "        -5.68186917e-02,  7.31999676e-02],\n",
       "       [ 5.98753570e-02,  4.61844741e-01,  1.19449741e-01,\n",
       "        -1.68462110e-02,  1.18242548e-01],\n",
       "       [-2.13095187e-01,  1.73930021e-01, -1.33915373e-01,\n",
       "        -2.20342476e-01, -1.33995902e-01],\n",
       "       [ 5.89272775e-01,  1.32558890e+00,  5.48481335e-01,\n",
       "         4.22851077e-01,  5.49525254e-01],\n",
       "       [-7.13541183e-01, -9.77728860e-01, -5.96728983e-01,\n",
       "        -6.96378383e-01, -5.96808414e-01],\n",
       "       [-6.59774258e-01, -9.77728860e-01, -5.32543154e-01,\n",
       "        -6.74575211e-01, -5.32622737e-01],\n",
       "       [-5.85327746e-01, -9.77728860e-01, -4.24440705e-01,\n",
       "        -5.76460941e-01, -4.23394480e-01],\n",
       "       [ 3.74205074e-01, -1.13984699e-01,  5.38346731e-01,\n",
       "         3.75610872e-01,  5.38264609e-01],\n",
       "       [-2.17231104e-01, -6.89814140e-01, -4.94603352e-02,\n",
       "        -2.23976338e-01, -4.84149991e-02],\n",
       "       [-3.53716376e-01, -6.89814140e-01, -1.74453792e-01,\n",
       "        -3.91133985e-01, -1.74534224e-01],\n",
       "       [-5.52240407e-01, -4.01899420e-01, -5.56190564e-01,\n",
       "        -5.61925493e-01, -5.55144027e-01],\n",
       "       [-5.50172449e-01, -4.01899420e-01, -5.42677758e-01,\n",
       "        -5.25586874e-01, -5.42757317e-01],\n",
       "       [-5.64648159e-01, -4.01899420e-01, -5.39299557e-01,\n",
       "        -5.14685289e-01, -5.38253059e-01],\n",
       "       [-5.56376325e-01, -4.01899420e-01, -5.22408549e-01,\n",
       "        -4.60177360e-01, -5.22488156e-01],\n",
       "       [-5.99803456e-01, -4.01899420e-01, -5.76459774e-01,\n",
       "        -5.29220736e-01, -5.76539253e-01],\n",
       "       [-5.70852035e-01, -4.01899420e-01, -5.46055960e-01,\n",
       "        -4.78346670e-01, -5.46135511e-01],\n",
       "       [-6.37026712e-01, -6.89814140e-01, -6.60914812e-01,\n",
       "        -6.63673626e-01, -6.59868026e-01],\n",
       "       [-6.47366506e-01, -6.89814140e-01, -6.03485386e-01,\n",
       "        -5.76460941e-01, -6.03564801e-01],\n",
       "       [-4.75725937e-01, -4.01899420e-01, -4.27818906e-01,\n",
       "        -4.12937156e-01, -4.27898738e-01],\n",
       "       [-4.67454102e-01, -4.01899420e-01, -4.21062503e-01,\n",
       "        -4.05669432e-01, -4.20016286e-01],\n",
       "       [-4.65386143e-01, -4.01899420e-01, -4.34575309e-01,\n",
       "        -3.98401708e-01, -4.35781189e-01],\n",
       "       [-5.91531622e-01, -6.89814140e-01, -5.29164952e-01,\n",
       "        -5.32854598e-01, -5.30370608e-01],\n",
       "       [-4.24026970e-01, -1.13984699e-01, -4.88626534e-01,\n",
       "        -2.71216543e-01, -4.88706221e-01],\n",
       "       [-1.88279683e-01,  1.73930021e-01, -2.38639621e-01,\n",
       "         4.95696031e-03, -2.38719901e-01],\n",
       "       [-6.37026712e-01, -4.01899420e-01, -6.64293013e-01,\n",
       "        -5.54657769e-01, -6.63246220e-01],\n",
       "       [-2.60658236e-01, -1.13984699e-01, -2.58908830e-01,\n",
       "        -2.96653576e-01, -2.58989062e-01],\n",
       "       [-7.34220770e-01, -6.89814140e-01, -7.28478842e-01,\n",
       "        -7.14547692e-01, -7.28557961e-01],\n",
       "       [-6.10143250e-01, -4.01899420e-01, -6.23754595e-01,\n",
       "        -5.83728664e-01, -6.22707897e-01],\n",
       "       [ 1.48797579e-01, -4.01899420e-01,  2.74847012e-01,\n",
       "         1.86650054e-01,  2.73639450e-01],\n",
       "       [-3.37172706e-01, -4.01899420e-01, -2.28505016e-01,\n",
       "        -3.11189023e-01, -2.27459256e-01],\n",
       "       [-1.20037047e-01, -4.01899420e-01,  1.21268773e-03,\n",
       "        -1.91271581e-01,  2.25790370e-03],\n",
       "       [ 1.52605805e+00,  1.03767418e+00,  9.91025736e-01,\n",
       "         7.97138850e-01,  9.92068605e-01],\n",
       "       [ 2.43923678e-01, -1.13984699e-01,  1.32962547e-01,\n",
       "         1.64846883e-01,  1.31755322e-01],\n",
       "       [-1.13833171e-01, -4.01899420e-01, -1.20402567e-01,\n",
       "        -1.00425034e-01, -1.20483128e-01]])"
      ]
     },
     "execution_count": 238,
     "metadata": {},
     "output_type": "execute_result"
    }
   ],
   "source": [
    "df_pc1 = scaler.fit_transform(df_pc1)\n",
    "df_pc1"
   ]
  },
  {
   "cell_type": "code",
   "execution_count": 239,
   "id": "82a83f76",
   "metadata": {},
   "outputs": [
    {
     "name": "stdout",
     "output_type": "stream",
     "text": [
      "[9.64162746e-01 2.33046731e-02 1.11199310e-02 1.41256948e-03\n",
      " 7.99702317e-08]\n"
     ]
    }
   ],
   "source": [
    "#Applying Principal Component Analysis\n",
    "pca = PCA()\n",
    "pca.fit(df_pc1)\n",
    "explained_variance_ratio = pca.explained_variance_ratio_\n",
    "print(explained_variance_ratio)"
   ]
  },
  {
   "cell_type": "code",
   "execution_count": 240,
   "id": "32b512b3",
   "metadata": {},
   "outputs": [
    {
     "name": "stdout",
     "output_type": "stream",
     "text": [
      "1\n"
     ]
    }
   ],
   "source": [
    "cumulative_explained_variance_ratio = np.cumsum(explained_variance_ratio)\n",
    "num_components = np.argmax(cumulative_explained_variance_ratio >= 0.95) + 1\n",
    "print(num_components)"
   ]
  },
  {
   "cell_type": "code",
   "execution_count": 241,
   "id": "1cdff784",
   "metadata": {},
   "outputs": [
    {
     "name": "stdout",
     "output_type": "stream",
     "text": [
      "[4.84566329e+00 1.17124001e-01 5.58862511e-02 7.09925385e-03\n",
      " 4.01912247e-07]\n"
     ]
    }
   ],
   "source": [
    "eigenvalues = pca.explained_variance_\n",
    "print(eigenvalues)"
   ]
  },
  {
   "cell_type": "code",
   "execution_count": 242,
   "id": "01640482",
   "metadata": {},
   "outputs": [],
   "source": [
    "pca = PCA(n_components=num_components)\n",
    "pca_data = pca.fit_transform(df_pc1)"
   ]
  },
  {
   "cell_type": "code",
   "execution_count": 243,
   "id": "7ed4487d",
   "metadata": {},
   "outputs": [
    {
     "data": {
      "text/html": [
       "<div>\n",
       "<style scoped>\n",
       "    .dataframe tbody tr th:only-of-type {\n",
       "        vertical-align: middle;\n",
       "    }\n",
       "\n",
       "    .dataframe tbody tr th {\n",
       "        vertical-align: top;\n",
       "    }\n",
       "\n",
       "    .dataframe thead th {\n",
       "        text-align: right;\n",
       "    }\n",
       "</style>\n",
       "<table border=\"1\" class=\"dataframe\">\n",
       "  <thead>\n",
       "    <tr style=\"text-align: right;\">\n",
       "      <th></th>\n",
       "      <th>Jitter_pc</th>\n",
       "    </tr>\n",
       "  </thead>\n",
       "  <tbody>\n",
       "    <tr>\n",
       "      <th>0</th>\n",
       "      <td>0.934818</td>\n",
       "    </tr>\n",
       "    <tr>\n",
       "      <th>1</th>\n",
       "      <td>1.751692</td>\n",
       "    </tr>\n",
       "    <tr>\n",
       "      <th>2</th>\n",
       "      <td>2.333009</td>\n",
       "    </tr>\n",
       "    <tr>\n",
       "      <th>3</th>\n",
       "      <td>2.020036</td>\n",
       "    </tr>\n",
       "    <tr>\n",
       "      <th>4</th>\n",
       "      <td>3.346368</td>\n",
       "    </tr>\n",
       "    <tr>\n",
       "      <th>...</th>\n",
       "      <td>...</td>\n",
       "    </tr>\n",
       "    <tr>\n",
       "      <th>190</th>\n",
       "      <td>-0.671672</td>\n",
       "    </tr>\n",
       "    <tr>\n",
       "      <th>191</th>\n",
       "      <td>-0.312219</td>\n",
       "    </tr>\n",
       "    <tr>\n",
       "      <th>192</th>\n",
       "      <td>2.393083</td>\n",
       "    </tr>\n",
       "    <tr>\n",
       "      <th>193</th>\n",
       "      <td>0.254103</td>\n",
       "    </tr>\n",
       "    <tr>\n",
       "      <th>194</th>\n",
       "      <td>-0.379500</td>\n",
       "    </tr>\n",
       "  </tbody>\n",
       "</table>\n",
       "<p>195 rows × 1 columns</p>\n",
       "</div>"
      ],
      "text/plain": [
       "     Jitter_pc\n",
       "0     0.934818\n",
       "1     1.751692\n",
       "2     2.333009\n",
       "3     2.020036\n",
       "4     3.346368\n",
       "..         ...\n",
       "190  -0.671672\n",
       "191  -0.312219\n",
       "192   2.393083\n",
       "193   0.254103\n",
       "194  -0.379500\n",
       "\n",
       "[195 rows x 1 columns]"
      ]
     },
     "execution_count": 243,
     "metadata": {},
     "output_type": "execute_result"
    }
   ],
   "source": [
    "pca_data = pd.DataFrame(pca_data, columns = ['Jitter_pc'])\n",
    "df_pc1 = pd.DataFrame(df_pc1, columns = ['MDVP:Jitter(%)','MDVP:Jitter(Abs)', 'MDVP:RAP', 'MDVP:PPQ', 'Jitter:DDP'])\n",
    "pca_data"
   ]
  },
  {
   "cell_type": "code",
   "execution_count": 244,
   "id": "4bf4ce62",
   "metadata": {},
   "outputs": [],
   "source": [
    "df_pc['Jitter_pc'] = pca_data['Jitter_pc']"
   ]
  },
  {
   "cell_type": "code",
   "execution_count": 245,
   "id": "e8305a70",
   "metadata": {},
   "outputs": [
    {
     "data": {
      "text/plain": [
       "Index(['MDVP:Fo(Hz)', 'MDVP:Fhi(Hz)', 'MDVP:Flo(Hz)', 'MDVP:Jitter(%)',\n",
       "       'MDVP:Jitter(Abs)', 'MDVP:RAP', 'MDVP:PPQ', 'Jitter:DDP',\n",
       "       'MDVP:Shimmer', 'MDVP:Shimmer(dB)', 'Shimmer:APQ3', 'Shimmer:APQ5',\n",
       "       'MDVP:APQ', 'Shimmer:DDA', 'NHR', 'HNR', 'RPDE', 'DFA', 'spread1',\n",
       "       'spread2', 'D2', 'PPE', 'status', 'MDVP:F_Spd', 'Jitter_pc'],\n",
       "      dtype='object')"
      ]
     },
     "execution_count": 245,
     "metadata": {},
     "output_type": "execute_result"
    }
   ],
   "source": [
    "df_pc.columns"
   ]
  },
  {
   "cell_type": "code",
   "execution_count": 246,
   "id": "6695a4bc",
   "metadata": {},
   "outputs": [
    {
     "name": "stdout",
     "output_type": "stream",
     "text": [
      "[9.67891293e-01 2.39668230e-02 4.97378202e-03 2.88262892e-03\n",
      " 2.85467090e-04 6.01341259e-09]\n"
     ]
    }
   ],
   "source": [
    "pca2 = PCA()\n",
    "df_pc2 = df_pc[variation_amp]\n",
    "df_pc2 = scaler.fit_transform(df_pc2)\n",
    "\n",
    "pca2.fit(df_pc2)\n",
    "explained_variance_ratio = pca2.explained_variance_ratio_\n",
    "print(explained_variance_ratio)"
   ]
  },
  {
   "cell_type": "code",
   "execution_count": 247,
   "id": "242be8cd",
   "metadata": {},
   "outputs": [
    {
     "name": "stdout",
     "output_type": "stream",
     "text": [
      "1\n"
     ]
    }
   ],
   "source": [
    "cumulative_explained_variance_ratio = np.cumsum(explained_variance_ratio)\n",
    "num_components = np.argmax(cumulative_explained_variance_ratio >= 0.95) + 1\n",
    "print(num_components)"
   ]
  },
  {
   "cell_type": "code",
   "execution_count": 248,
   "id": "8e8604ef",
   "metadata": {},
   "outputs": [
    {
     "name": "stdout",
     "output_type": "stream",
     "text": [
      "[5.83728254e+00 1.44542180e-01 2.99965204e-02 1.73849270e-02\n",
      " 1.72163142e-03 3.62664574e-08]\n"
     ]
    }
   ],
   "source": [
    "eigenvalues = pca2.explained_variance_\n",
    "print(eigenvalues)"
   ]
  },
  {
   "cell_type": "code",
   "execution_count": 249,
   "id": "066af443",
   "metadata": {},
   "outputs": [],
   "source": [
    "pca2 = PCA(n_components=num_components)\n",
    "data_transformed2 = pca2.fit_transform(df_pc2)"
   ]
  },
  {
   "cell_type": "code",
   "execution_count": 250,
   "id": "28d17fd4",
   "metadata": {},
   "outputs": [],
   "source": [
    "data_transformed2 = pd.DataFrame(data_transformed2, columns = ['Shimmer_pc'])\n",
    "df_pc2 = pd.DataFrame(df_pc2, columns = ['MDVP:Shimmer', 'MDVP:Shimmer(dB)','Shimmer:APQ3', 'Shimmer:APQ5', 'MDVP:APQ', 'Shimmer:DDA'])"
   ]
  },
  {
   "cell_type": "code",
   "execution_count": 251,
   "id": "012f5a0f",
   "metadata": {},
   "outputs": [],
   "source": [
    "df_pc['Shimmer_pc'] = data_transformed2['Shimmer_pc']"
   ]
  },
  {
   "cell_type": "code",
   "execution_count": 252,
   "id": "93aee5a8",
   "metadata": {},
   "outputs": [],
   "source": [
    "df_pc = df_pc.drop(['MDVP:Fhi(Hz)', 'MDVP:Flo(Hz)', 'MDVP:Jitter(%)',\n",
    "                    'MDVP:Jitter(Abs)', 'MDVP:RAP', 'MDVP:PPQ', 'Jitter:DDP',\n",
    "                    'MDVP:Shimmer', 'MDVP:Shimmer(dB)', 'Shimmer:APQ3', 'Shimmer:APQ5',\n",
    "                    'MDVP:APQ', 'Shimmer:DDA'], axis = 1)"
   ]
  },
  {
   "cell_type": "code",
   "execution_count": 253,
   "id": "6ef52326",
   "metadata": {},
   "outputs": [
    {
     "data": {
      "text/html": [
       "<div>\n",
       "<style scoped>\n",
       "    .dataframe tbody tr th:only-of-type {\n",
       "        vertical-align: middle;\n",
       "    }\n",
       "\n",
       "    .dataframe tbody tr th {\n",
       "        vertical-align: top;\n",
       "    }\n",
       "\n",
       "    .dataframe thead th {\n",
       "        text-align: right;\n",
       "    }\n",
       "</style>\n",
       "<table border=\"1\" class=\"dataframe\">\n",
       "  <thead>\n",
       "    <tr style=\"text-align: right;\">\n",
       "      <th></th>\n",
       "      <th>MDVP:Fo(Hz)</th>\n",
       "      <th>NHR</th>\n",
       "      <th>HNR</th>\n",
       "      <th>RPDE</th>\n",
       "      <th>DFA</th>\n",
       "      <th>spread1</th>\n",
       "      <th>spread2</th>\n",
       "      <th>D2</th>\n",
       "      <th>PPE</th>\n",
       "      <th>status</th>\n",
       "      <th>MDVP:F_Spd</th>\n",
       "      <th>Jitter_pc</th>\n",
       "      <th>Shimmer_pc</th>\n",
       "    </tr>\n",
       "  </thead>\n",
       "  <tbody>\n",
       "    <tr>\n",
       "      <th>0</th>\n",
       "      <td>119.992</td>\n",
       "      <td>0.02211</td>\n",
       "      <td>21.033</td>\n",
       "      <td>0.414783</td>\n",
       "      <td>0.815285</td>\n",
       "      <td>-4.813031</td>\n",
       "      <td>0.266482</td>\n",
       "      <td>2.301442</td>\n",
       "      <td>0.284654</td>\n",
       "      <td>1</td>\n",
       "      <td>82.305</td>\n",
       "      <td>0.934818</td>\n",
       "      <td>1.700278</td>\n",
       "    </tr>\n",
       "    <tr>\n",
       "      <th>1</th>\n",
       "      <td>122.400</td>\n",
       "      <td>0.01929</td>\n",
       "      <td>19.085</td>\n",
       "      <td>0.458359</td>\n",
       "      <td>0.819521</td>\n",
       "      <td>-4.075192</td>\n",
       "      <td>0.335590</td>\n",
       "      <td>2.486855</td>\n",
       "      <td>0.368674</td>\n",
       "      <td>1</td>\n",
       "      <td>34.831</td>\n",
       "      <td>1.751692</td>\n",
       "      <td>4.081638</td>\n",
       "    </tr>\n",
       "    <tr>\n",
       "      <th>2</th>\n",
       "      <td>116.682</td>\n",
       "      <td>0.01309</td>\n",
       "      <td>20.651</td>\n",
       "      <td>0.429895</td>\n",
       "      <td>0.825288</td>\n",
       "      <td>-4.443179</td>\n",
       "      <td>0.311173</td>\n",
       "      <td>2.342259</td>\n",
       "      <td>0.332634</td>\n",
       "      <td>1</td>\n",
       "      <td>19.556</td>\n",
       "      <td>2.333009</td>\n",
       "      <td>2.865896</td>\n",
       "    </tr>\n",
       "    <tr>\n",
       "      <th>3</th>\n",
       "      <td>116.676</td>\n",
       "      <td>0.01353</td>\n",
       "      <td>20.644</td>\n",
       "      <td>0.434969</td>\n",
       "      <td>0.819235</td>\n",
       "      <td>-4.117501</td>\n",
       "      <td>0.334147</td>\n",
       "      <td>2.405554</td>\n",
       "      <td>0.368975</td>\n",
       "      <td>1</td>\n",
       "      <td>26.505</td>\n",
       "      <td>2.020036</td>\n",
       "      <td>3.224675</td>\n",
       "    </tr>\n",
       "    <tr>\n",
       "      <th>4</th>\n",
       "      <td>116.014</td>\n",
       "      <td>0.01767</td>\n",
       "      <td>19.649</td>\n",
       "      <td>0.417356</td>\n",
       "      <td>0.823484</td>\n",
       "      <td>-3.747787</td>\n",
       "      <td>0.234513</td>\n",
       "      <td>2.332180</td>\n",
       "      <td>0.410335</td>\n",
       "      <td>1</td>\n",
       "      <td>31.126</td>\n",
       "      <td>3.346368</td>\n",
       "      <td>4.471558</td>\n",
       "    </tr>\n",
       "    <tr>\n",
       "      <th>5</th>\n",
       "      <td>120.552</td>\n",
       "      <td>0.01222</td>\n",
       "      <td>21.378</td>\n",
       "      <td>0.415564</td>\n",
       "      <td>0.825069</td>\n",
       "      <td>-4.242867</td>\n",
       "      <td>0.299111</td>\n",
       "      <td>2.187560</td>\n",
       "      <td>0.357775</td>\n",
       "      <td>1</td>\n",
       "      <td>17.375</td>\n",
       "      <td>1.832739</td>\n",
       "      <td>2.152991</td>\n",
       "    </tr>\n",
       "    <tr>\n",
       "      <th>6</th>\n",
       "      <td>120.267</td>\n",
       "      <td>0.00607</td>\n",
       "      <td>24.886</td>\n",
       "      <td>0.596040</td>\n",
       "      <td>0.764112</td>\n",
       "      <td>-5.634322</td>\n",
       "      <td>0.257682</td>\n",
       "      <td>1.854785</td>\n",
       "      <td>0.211756</td>\n",
       "      <td>1</td>\n",
       "      <td>22.424</td>\n",
       "      <td>-1.211720</td>\n",
       "      <td>-1.775359</td>\n",
       "    </tr>\n",
       "  </tbody>\n",
       "</table>\n",
       "</div>"
      ],
      "text/plain": [
       "   MDVP:Fo(Hz)      NHR     HNR      RPDE       DFA   spread1   spread2  \\\n",
       "0      119.992  0.02211  21.033  0.414783  0.815285 -4.813031  0.266482   \n",
       "1      122.400  0.01929  19.085  0.458359  0.819521 -4.075192  0.335590   \n",
       "2      116.682  0.01309  20.651  0.429895  0.825288 -4.443179  0.311173   \n",
       "3      116.676  0.01353  20.644  0.434969  0.819235 -4.117501  0.334147   \n",
       "4      116.014  0.01767  19.649  0.417356  0.823484 -3.747787  0.234513   \n",
       "5      120.552  0.01222  21.378  0.415564  0.825069 -4.242867  0.299111   \n",
       "6      120.267  0.00607  24.886  0.596040  0.764112 -5.634322  0.257682   \n",
       "\n",
       "         D2       PPE  status  MDVP:F_Spd  Jitter_pc  Shimmer_pc  \n",
       "0  2.301442  0.284654       1      82.305   0.934818    1.700278  \n",
       "1  2.486855  0.368674       1      34.831   1.751692    4.081638  \n",
       "2  2.342259  0.332634       1      19.556   2.333009    2.865896  \n",
       "3  2.405554  0.368975       1      26.505   2.020036    3.224675  \n",
       "4  2.332180  0.410335       1      31.126   3.346368    4.471558  \n",
       "5  2.187560  0.357775       1      17.375   1.832739    2.152991  \n",
       "6  1.854785  0.211756       1      22.424  -1.211720   -1.775359  "
      ]
     },
     "execution_count": 253,
     "metadata": {},
     "output_type": "execute_result"
    }
   ],
   "source": [
    "df_pc.head(7)"
   ]
  },
  {
   "cell_type": "code",
   "execution_count": 254,
   "id": "4b3cac50",
   "metadata": {},
   "outputs": [],
   "source": [
    "X = df_pc.drop(['status'], axis=1)\n",
    "y = df_pc['status']"
   ]
  },
  {
   "cell_type": "code",
   "execution_count": 255,
   "id": "ebac5e49",
   "metadata": {},
   "outputs": [],
   "source": [
    "X_train , X_test , y_train , y_test = train_test_split(X, y , test_size=0.3, random_state=20)"
   ]
  },
  {
   "cell_type": "markdown",
   "id": "eff8b4ba",
   "metadata": {},
   "source": [
    "### Decision Tree"
   ]
  },
  {
   "cell_type": "code",
   "execution_count": 286,
   "id": "11736c86",
   "metadata": {},
   "outputs": [
    {
     "name": "stdout",
     "output_type": "stream",
     "text": [
      "[0 0 0 1 0 0 1 1 1 1 1 0 1 0 0 1 1 1 0 1 1 1 1 0 1 1 1 1 1 0 1 1 1 1 1 1 0\n",
      " 1 1]\n",
      "\n",
      "Accuracy of Model: 89.74358974358975\n"
     ]
    }
   ],
   "source": [
    "clf = DecisionTreeClassifier()\n",
    "clf.fit(X_train, y_train)\n",
    "predDT = clf.predict(X_test)\n",
    "\n",
    "print(predDT)\n",
    "accuracy = accuracy_score(y_test,predDT)*100\n",
    "print(\"\\nAccuracy of Model:\",accuracy)"
   ]
  },
  {
   "cell_type": "markdown",
   "id": "b24a4bd7",
   "metadata": {},
   "source": [
    "### Random forest"
   ]
  },
  {
   "cell_type": "code",
   "execution_count": 288,
   "id": "49255149",
   "metadata": {},
   "outputs": [
    {
     "name": "stdout",
     "output_type": "stream",
     "text": [
      "Accuracy of Model is: 92.3076923076923\n"
     ]
    }
   ],
   "source": [
    "rfc = RandomForestClassifier()\n",
    "rfc.fit(X_train, y_train)\n",
    "predRF = rfc.predict(X_test)\n",
    "\n",
    "accuracy = accuracy_score(y_test,predRF)*100\n",
    "print(\"Accuracy of Model is:\",accuracy)"
   ]
  },
  {
   "attachments": {},
   "cell_type": "markdown",
   "id": "645d64bd",
   "metadata": {},
   "source": [
    "# XG-Boost"
   ]
  },
  {
   "cell_type": "code",
   "execution_count": 279,
   "id": "90507865",
   "metadata": {},
   "outputs": [
    {
     "data": {
      "text/html": [
       "<style>#sk-container-id-6 {color: black;background-color: white;}#sk-container-id-6 pre{padding: 0;}#sk-container-id-6 div.sk-toggleable {background-color: white;}#sk-container-id-6 label.sk-toggleable__label {cursor: pointer;display: block;width: 100%;margin-bottom: 0;padding: 0.3em;box-sizing: border-box;text-align: center;}#sk-container-id-6 label.sk-toggleable__label-arrow:before {content: \"▸\";float: left;margin-right: 0.25em;color: #696969;}#sk-container-id-6 label.sk-toggleable__label-arrow:hover:before {color: black;}#sk-container-id-6 div.sk-estimator:hover label.sk-toggleable__label-arrow:before {color: black;}#sk-container-id-6 div.sk-toggleable__content {max-height: 0;max-width: 0;overflow: hidden;text-align: left;background-color: #f0f8ff;}#sk-container-id-6 div.sk-toggleable__content pre {margin: 0.2em;color: black;border-radius: 0.25em;background-color: #f0f8ff;}#sk-container-id-6 input.sk-toggleable__control:checked~div.sk-toggleable__content {max-height: 200px;max-width: 100%;overflow: auto;}#sk-container-id-6 input.sk-toggleable__control:checked~label.sk-toggleable__label-arrow:before {content: \"▾\";}#sk-container-id-6 div.sk-estimator input.sk-toggleable__control:checked~label.sk-toggleable__label {background-color: #d4ebff;}#sk-container-id-6 div.sk-label input.sk-toggleable__control:checked~label.sk-toggleable__label {background-color: #d4ebff;}#sk-container-id-6 input.sk-hidden--visually {border: 0;clip: rect(1px 1px 1px 1px);clip: rect(1px, 1px, 1px, 1px);height: 1px;margin: -1px;overflow: hidden;padding: 0;position: absolute;width: 1px;}#sk-container-id-6 div.sk-estimator {font-family: monospace;background-color: #f0f8ff;border: 1px dotted black;border-radius: 0.25em;box-sizing: border-box;margin-bottom: 0.5em;}#sk-container-id-6 div.sk-estimator:hover {background-color: #d4ebff;}#sk-container-id-6 div.sk-parallel-item::after {content: \"\";width: 100%;border-bottom: 1px solid gray;flex-grow: 1;}#sk-container-id-6 div.sk-label:hover label.sk-toggleable__label {background-color: #d4ebff;}#sk-container-id-6 div.sk-serial::before {content: \"\";position: absolute;border-left: 1px solid gray;box-sizing: border-box;top: 0;bottom: 0;left: 50%;z-index: 0;}#sk-container-id-6 div.sk-serial {display: flex;flex-direction: column;align-items: center;background-color: white;padding-right: 0.2em;padding-left: 0.2em;position: relative;}#sk-container-id-6 div.sk-item {position: relative;z-index: 1;}#sk-container-id-6 div.sk-parallel {display: flex;align-items: stretch;justify-content: center;background-color: white;position: relative;}#sk-container-id-6 div.sk-item::before, #sk-container-id-6 div.sk-parallel-item::before {content: \"\";position: absolute;border-left: 1px solid gray;box-sizing: border-box;top: 0;bottom: 0;left: 50%;z-index: -1;}#sk-container-id-6 div.sk-parallel-item {display: flex;flex-direction: column;z-index: 1;position: relative;background-color: white;}#sk-container-id-6 div.sk-parallel-item:first-child::after {align-self: flex-end;width: 50%;}#sk-container-id-6 div.sk-parallel-item:last-child::after {align-self: flex-start;width: 50%;}#sk-container-id-6 div.sk-parallel-item:only-child::after {width: 0;}#sk-container-id-6 div.sk-dashed-wrapped {border: 1px dashed gray;margin: 0 0.4em 0.5em 0.4em;box-sizing: border-box;padding-bottom: 0.4em;background-color: white;}#sk-container-id-6 div.sk-label label {font-family: monospace;font-weight: bold;display: inline-block;line-height: 1.2em;}#sk-container-id-6 div.sk-label-container {text-align: center;}#sk-container-id-6 div.sk-container {/* jupyter's `normalize.less` sets `[hidden] { display: none; }` but bootstrap.min.css set `[hidden] { display: none !important; }` so we also need the `!important` here to be able to override the default hidden behavior on the sphinx rendered scikit-learn.org. See: https://github.com/scikit-learn/scikit-learn/issues/21755 */display: inline-block !important;position: relative;}#sk-container-id-6 div.sk-text-repr-fallback {display: none;}</style><div id=\"sk-container-id-6\" class=\"sk-top-container\"><div class=\"sk-text-repr-fallback\"><pre>XGBClassifier(base_score=None, booster=None, callbacks=None,\n",
       "              colsample_bylevel=None, colsample_bynode=None,\n",
       "              colsample_bytree=None, early_stopping_rounds=None,\n",
       "              enable_categorical=False, eval_metric=None, feature_types=None,\n",
       "              gamma=None, gpu_id=None, grow_policy=None, importance_type=None,\n",
       "              interaction_constraints=None, learning_rate=None, max_bin=None,\n",
       "              max_cat_threshold=None, max_cat_to_onehot=None,\n",
       "              max_delta_step=None, max_depth=None, max_leaves=None,\n",
       "              min_child_weight=None, missing=nan, monotone_constraints=None,\n",
       "              n_estimators=100, n_jobs=None, num_parallel_tree=None,\n",
       "              predictor=None, random_state=None, ...)</pre><b>In a Jupyter environment, please rerun this cell to show the HTML representation or trust the notebook. <br />On GitHub, the HTML representation is unable to render, please try loading this page with nbviewer.org.</b></div><div class=\"sk-container\" hidden><div class=\"sk-item\"><div class=\"sk-estimator sk-toggleable\"><input class=\"sk-toggleable__control sk-hidden--visually\" id=\"sk-estimator-id-10\" type=\"checkbox\" checked><label for=\"sk-estimator-id-10\" class=\"sk-toggleable__label sk-toggleable__label-arrow\">XGBClassifier</label><div class=\"sk-toggleable__content\"><pre>XGBClassifier(base_score=None, booster=None, callbacks=None,\n",
       "              colsample_bylevel=None, colsample_bynode=None,\n",
       "              colsample_bytree=None, early_stopping_rounds=None,\n",
       "              enable_categorical=False, eval_metric=None, feature_types=None,\n",
       "              gamma=None, gpu_id=None, grow_policy=None, importance_type=None,\n",
       "              interaction_constraints=None, learning_rate=None, max_bin=None,\n",
       "              max_cat_threshold=None, max_cat_to_onehot=None,\n",
       "              max_delta_step=None, max_depth=None, max_leaves=None,\n",
       "              min_child_weight=None, missing=nan, monotone_constraints=None,\n",
       "              n_estimators=100, n_jobs=None, num_parallel_tree=None,\n",
       "              predictor=None, random_state=None, ...)</pre></div></div></div></div></div>"
      ],
      "text/plain": [
       "XGBClassifier(base_score=None, booster=None, callbacks=None,\n",
       "              colsample_bylevel=None, colsample_bynode=None,\n",
       "              colsample_bytree=None, early_stopping_rounds=None,\n",
       "              enable_categorical=False, eval_metric=None, feature_types=None,\n",
       "              gamma=None, gpu_id=None, grow_policy=None, importance_type=None,\n",
       "              interaction_constraints=None, learning_rate=None, max_bin=None,\n",
       "              max_cat_threshold=None, max_cat_to_onehot=None,\n",
       "              max_delta_step=None, max_depth=None, max_leaves=None,\n",
       "              min_child_weight=None, missing=nan, monotone_constraints=None,\n",
       "              n_estimators=100, n_jobs=None, num_parallel_tree=None,\n",
       "              predictor=None, random_state=None, ...)"
      ]
     },
     "execution_count": 279,
     "metadata": {},
     "output_type": "execute_result"
    }
   ],
   "source": [
    "import xgboost as xgb\n",
    "xgb_classifier = xgb.XGBClassifier()\n",
    "xgb_classifier.fit(X_train,y_train)"
   ]
  },
  {
   "cell_type": "code",
   "execution_count": 303,
   "id": "9d4f4585",
   "metadata": {},
   "outputs": [
    {
     "name": "stdout",
     "output_type": "stream",
     "text": [
      "[0 1 0 1 0 1 1 1 1 1 1 0 1 0 1 1 1 1 1 1 1 1 1 0 1 1 1 1 1 1 1 1 1 1 1 1 0\n",
      " 1 1]\n",
      "\n",
      "Accuracy of Model:: 0.8717948717948718\n"
     ]
    }
   ],
   "source": [
    "predXGB =  xgb_classifier.predict(X_test)\n",
    "\n",
    "print(predXGB)\n",
    "print(\"\\nAccuracy of Model::\",accuracy_score(y_test,predXGB))"
   ]
  }
 ],
 "metadata": {
  "kernelspec": {
   "display_name": "Python 3",
   "language": "python",
   "name": "python3"
  },
  "language_info": {
   "codemirror_mode": {
    "name": "ipython",
    "version": 3
   },
   "file_extension": ".py",
   "mimetype": "text/x-python",
   "name": "python",
   "nbconvert_exporter": "python",
   "pygments_lexer": "ipython3",
   "version": "3.11.1"
  },
  "vscode": {
   "interpreter": {
    "hash": "31f2aee4e71d21fbe5cf8b01ff0e069b9275f58929596ceb00d14d90e3e16cd6"
   }
  }
 },
 "nbformat": 4,
 "nbformat_minor": 5
}
